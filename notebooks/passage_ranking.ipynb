{
 "cells": [
  {
   "cell_type": "code",
   "execution_count": 1,
   "metadata": {},
   "outputs": [
    {
     "name": "stderr",
     "output_type": "stream",
     "text": [
      "c:\\Users\\kryst\\.virtualenvs\\lecture_search-VJxE5dGJ\\lib\\site-packages\\tqdm\\auto.py:21: TqdmWarning: IProgress not found. Please update jupyter and ipywidgets. See https://ipywidgets.readthedocs.io/en/stable/user_install.html\n",
      "  from .autonotebook import tqdm as notebook_tqdm\n"
     ]
    }
   ],
   "source": [
    "from sentence_transformers import CrossEncoder"
   ]
  },
  {
   "cell_type": "code",
   "execution_count": 2,
   "metadata": {},
   "outputs": [
    {
     "name": "stderr",
     "output_type": "stream",
     "text": [
      "AVX = 1 | AVX2 = 1 | AVX512 = 0 | AVX512_VBMI = 0 | AVX512_VNNI = 0 | FMA = 1 | NEON = 0 | ARM_FMA = 0 | F16C = 1 | FP16_VA = 0 | WASM_SIMD = 0 | BLAS = 0 | SSE3 = 1 | VSX = 0 | \n"
     ]
    }
   ],
   "source": [
    "from langchain.llms import LlamaCpp\n",
    "llm = LlamaCpp(model_path=r\"C:\\Users\\kryst\\Documents\\models\\llm\\ggml-vic7b-q5_0.bin\", n_ctx=1024, temperature=0.6)"
   ]
  },
  {
   "cell_type": "code",
   "execution_count": 3,
   "metadata": {},
   "outputs": [],
   "source": [
    "def get_prompt(term, passages, other_terms):\n",
    "    context = \"\\n\".join(passages)\n",
    "    prompt = f\"\"\"The term \"{term}\" is new and has never been used before. The only information about this new term \"{term}\" that you have is in these three separate passages:\\n {context}\n",
    "Task: Using only the information from the passages, write a short and precise definition of \"{term}\". Omit facts that do not appear in the passages. You have already defined these terms and may use them: {[t for t in other_terms]}.\n",
    "The definition of nadir points is:\"\"\"\n",
    "    return prompt\n"
   ]
  },
  {
   "cell_type": "code",
   "execution_count": 4,
   "metadata": {},
   "outputs": [],
   "source": [
    "import lecture_search.app.cozo_client as cozo_db\n",
    "\n",
    "client = cozo_db.get_client(r\"C:\\Users\\kryst\\Documents\\Artificial Intelligence\\Artificial Intelligence - sem6\\courses\\cozo_test.db\")"
   ]
  },
  {
   "cell_type": "code",
   "execution_count": 5,
   "metadata": {},
   "outputs": [],
   "source": [
    "## Load our cross-encoder. Use fast tokenizer to speed up the tokenization\n",
    "model = CrossEncoder('cross-encoder/ms-marco-TinyBERT-L-2')\n",
    "def rank_passages(query, passages, k =3):\n",
    "\n",
    "    #Concatenate the query and all passages and predict the scores for the pairs [query, passage]\n",
    "    model_inputs = [[query, passage] for passage in passages]\n",
    "    scores = model.predict(model_inputs)\n",
    "\n",
    "    #Sort the scores in decreasing order\n",
    "    results = [{'input': inp, 'score': score} for inp, score in zip(model_inputs, scores)]\n",
    "    results = sorted(results, key=lambda x: x['score'], reverse=True)\n",
    "\n",
    "    print(\"Query:\", query)\n",
    "    return [result[\"input\"][1] for result in results[:k]]"
   ]
  },
  {
   "cell_type": "code",
   "execution_count": 6,
   "metadata": {},
   "outputs": [
    {
     "name": "stdout",
     "output_type": "stream",
     "text": [
      "Query: what is the definition of nadir points\n"
     ]
    },
    {
     "data": {
      "text/plain": [
       "['Therefore, it is often used as an estimate of the nadir point. Also, for numerical reasons, the ideal point is often not used directly. In turn, it is transformed into a utopian point with marginally better objective values on all objectives.',\n",
       " ' Since, in practice, the entire Pareto front is unknown, the nadir point can only be approximated. It is much easier to determine the max point with the worst objective values of the entire objective space. Therefore, it is often used as an estimate of the nadir point.',\n",
       " 'It represents the best of each objective function, and therefore it is typically non-existent or infeasible. In turn, the nadir objective vector is the upper bound of the Pareto front, representing the worst of all objective functions but with values delimited to the Pareto optimal solutions. Typically, it is a dominated point.']"
      ]
     },
     "execution_count": 6,
     "metadata": {},
     "output_type": "execute_result"
    }
   ],
   "source": [
    "def get_passages(phrase):\n",
    "    query = f\"what is the definition of {phrase}\"\n",
    "    results = cozo_db.semantic_search(client,query, cozo_db.get_bi_encoder())\n",
    "    results = rank_passages(query, [result[\"sentence\"] for result in results[:3]])\n",
    "    return results\n",
    "\n",
    "get_passages(\"nadir points\")"
   ]
  },
  {
   "cell_type": "code",
   "execution_count": 7,
   "metadata": {},
   "outputs": [],
   "source": [
    "terms = [] # normally load them from extract_phrases script\n",
    "\n",
    "def find_defining_phrases(term, passages):\n",
    "    terms_for_definition = []\n",
    "    for f_passage in passages:\n",
    "        for p in terms:\n",
    "            if p in f_passage and p != term:\n",
    "                terms_for_definition.append(p)\n",
    "    return set(terms_for_definition)\n"
   ]
  },
  {
   "cell_type": "code",
   "execution_count": 8,
   "metadata": {},
   "outputs": [
    {
     "name": "stdout",
     "output_type": "stream",
     "text": [
      "Query: what is the definition of nadir points\n",
      "The term \"nadir points\" is new and has never been used before. The only information about this new term \"nadir points\" that you have is in these three separate passages:\n",
      " Therefore, it is often used as an estimate of the nadir point. Also, for numerical reasons, the ideal point is often not used directly. In turn, it is transformed into a utopian point with marginally better objective values on all objectives.\n",
      " Since, in practice, the entire Pareto front is unknown, the nadir point can only be approximated. It is much easier to determine the max point with the worst objective values of the entire objective space. Therefore, it is often used as an estimate of the nadir point.\n",
      "It represents the best of each objective function, and therefore it is typically non-existent or infeasible. In turn, the nadir objective vector is the upper bound of the Pareto front, representing the worst of all objective functions but with values delimited to the Pareto optimal solutions. Typically, it is a dominated point.\n",
      "Task: Using only the information from the passages, write a short and precise definition of \"nadir points\". Omit facts that do not appear in the passages. You have already defined these terms and may use them: ['optimal solution', 'objective function', 'Pareto optimal', 'nadir objective vector', 'utopian point', 'Pareto front', 'objective vector', 'ideal point'].\n",
      "The definition of nadir points is:\n"
     ]
    }
   ],
   "source": [
    "term = \"nadir points\"\n",
    "passages = get_passages(term)\n",
    "# other_terms = find_defining_phrases(term, passages)\n",
    "other_terms = {'utopian point', 'Pareto optimal', 'Pareto front', 'nadir objective vector', 'objective function', 'objective vector', 'optimal solution', 'ideal point'} \n",
    "prompt = get_prompt(term, passages, other_terms)\n",
    "print(prompt)"
   ]
  },
  {
   "cell_type": "code",
   "execution_count": 9,
   "metadata": {},
   "outputs": [],
   "source": [
    "llm(prompt)"
   ]
  }
 ],
 "metadata": {
  "kernelspec": {
   "display_name": "tf",
   "language": "python",
   "name": "python3"
  },
  "language_info": {
   "codemirror_mode": {
    "name": "ipython",
    "version": 3
   },
   "file_extension": ".py",
   "mimetype": "text/x-python",
   "name": "python",
   "nbconvert_exporter": "python",
   "pygments_lexer": "ipython3",
   "version": "3.10.8"
  },
  "orig_nbformat": 4
 },
 "nbformat": 4,
 "nbformat_minor": 2
}
