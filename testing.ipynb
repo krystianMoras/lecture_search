{
 "cells": [
  {
   "cell_type": "code",
   "execution_count": 1,
   "metadata": {},
   "outputs": [
    {
     "data": {
      "text/plain": [
       "{'decision_analysis_filepaths': 'da_filepaths.txt',\n",
       " 'corpus_embeddings_path': 'decision_analysis_embeddings.pkl',\n",
       " 'transcriptions_path': 'transcriptions.txt',\n",
       " 'query_pdf_path': 'output.pdf'}"
      ]
     },
     "execution_count": 1,
     "metadata": {},
     "output_type": "execute_result"
    }
   ],
   "source": [
    "# read yaml config\n",
    "\n",
    "import yaml\n",
    "\n",
    "config = yaml.load(open(\"config.yaml\"), Loader=yaml.FullLoader)\n",
    "config"
   ]
  },
  {
   "cell_type": "code",
   "execution_count": 4,
   "metadata": {},
   "outputs": [
    {
     "data": {
      "text/plain": [
       "['decision_analysis/da-lec1-notes.pdf',\n",
       " 'decision_analysis/da-lec2-notes.pdf',\n",
       " 'decision_analysis/da-lec3-notes.pdf',\n",
       " 'decision_analysis/da-lec4-notes.pdf',\n",
       " 'decision_analysis/da-lec5-notes.pdf',\n",
       " 'decision_analysis/da-lec6-notes.pdf',\n",
       " 'decision_analysis/da-lec7-notes.pdf',\n",
       " 'decision_analysis/da-lec8-notes.pdf',\n",
       " 'decision_analysis/da-lec9-notes.pdf',\n",
       " 'decision_analysis/da-lec10-notes.pdf',\n",
       " 'decision_analysis/da-lec11-notes.pdf',\n",
       " 'decision_analysis/da-lec12-notes.pdf']"
      ]
     },
     "execution_count": 4,
     "metadata": {},
     "output_type": "execute_result"
    }
   ],
   "source": [
    "files = open(config[\"decision_analysis_filepaths\"]).read().splitlines()\n",
    "files"
   ]
  },
  {
   "cell_type": "code",
   "execution_count": 5,
   "metadata": {},
   "outputs": [],
   "source": [
    "from lectures_format import DecisionAnalysisLecture\n",
    "\n",
    "lecture = DecisionAnalysisLecture(files)"
   ]
  },
  {
   "cell_type": "code",
   "execution_count": 10,
   "metadata": {},
   "outputs": [
    {
     "data": {
      "text/plain": [
       "498"
      ]
     },
     "execution_count": 10,
     "metadata": {},
     "output_type": "execute_result"
    }
   ],
   "source": [
    "transcriptions = lecture.get_transcriptions_from_file(config[\"transcriptions_path\"])\n",
    "len(transcriptions)"
   ]
  },
  {
   "cell_type": "code",
   "execution_count": 12,
   "metadata": {},
   "outputs": [],
   "source": [
    "import slide_ranking\n",
    "corpus_embeddings = slide_ranking.load_embeddings(config[\"corpus_embeddings_path\"])"
   ]
  },
  {
   "cell_type": "code",
   "execution_count": 14,
   "metadata": {},
   "outputs": [],
   "source": [
    "hits = slide_ranking.get_hits(\"how does promethee method work?\", corpus_embeddings, transcriptions)"
   ]
  },
  {
   "cell_type": "code",
   "execution_count": 15,
   "metadata": {},
   "outputs": [
    {
     "data": {
      "text/plain": [
       "[{'corpus_id': 248, 'score': 0.5636867880821228, 'cross-score': 6.841872},\n",
       " {'corpus_id': 19, 'score': 0.4326290786266327, 'cross-score': 6.2671432},\n",
       " {'corpus_id': 39, 'score': 0.6098626852035522, 'cross-score': 5.791109},\n",
       " {'corpus_id': 41, 'score': 0.6389575004577637, 'cross-score': 5.2392817},\n",
       " {'corpus_id': 30, 'score': 0.6317201852798462, 'cross-score': 5.1924763}]"
      ]
     },
     "execution_count": 15,
     "metadata": {},
     "output_type": "execute_result"
    }
   ],
   "source": [
    "hits[:5]"
   ]
  },
  {
   "cell_type": "code",
   "execution_count": 16,
   "metadata": {},
   "outputs": [],
   "source": [
    "lecture.print_pages(hits[:5], config[\"query_pdf_path\"])"
   ]
  },
  {
   "cell_type": "code",
   "execution_count": 17,
   "metadata": {},
   "outputs": [
    {
     "data": {
      "text/plain": [
       "True"
      ]
     },
     "execution_count": 17,
     "metadata": {},
     "output_type": "execute_result"
    }
   ],
   "source": [
    "import webbrowser\n",
    "\n",
    "webbrowser.open(\"output.pdf\")"
   ]
  }
 ],
 "metadata": {
  "kernelspec": {
   "display_name": "tf",
   "language": "python",
   "name": "python3"
  },
  "language_info": {
   "codemirror_mode": {
    "name": "ipython",
    "version": 3
   },
   "file_extension": ".py",
   "mimetype": "text/x-python",
   "name": "python",
   "nbconvert_exporter": "python",
   "pygments_lexer": "ipython3",
   "version": "3.10.8"
  },
  "orig_nbformat": 4
 },
 "nbformat": 4,
 "nbformat_minor": 2
}
